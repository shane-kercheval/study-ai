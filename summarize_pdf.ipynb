{
 "cells": [
  {
   "cell_type": "code",
   "execution_count": 1,
   "metadata": {},
   "outputs": [],
   "source": [
    "# URL = 'https://arxiv.org/pdf/2403.18802.pdf'\n",
    "URL = '/Users/shanekercheval/Downloads/ud923-birrell-nelson-paper.pdf'\n",
    "\n",
    "# when extracting the text from the PDF, INCLUDE_AT and EXCLUDE_AT are used to determine where to\n",
    "# start and stop extracting text. For example, if INCLUDE_AT is 'Abstract' and EXCLUDE_AT is\n",
    "# 'Acknowledgements', then the text extraction will start at (and include) the first occurrence of\n",
    "# 'Abstract' and stop at (and Exclude) the first occurrence of 'Acknowledgements'.\n",
    "\n",
    "# INCLUDE_AT = \"ABSTRACT\"\n",
    "INCLUDE_AT = None\n",
    "# EXCLUDE_AT = \"Acknowledgements\"\n",
    "EXCLUDE_AT = \"REFERENCES\"\n",
    "\n",
    "MODEL = 'gpt-4o-mini'\n",
    "SYSTEM_MESSAGE = 'You are an AI assistant that gives detailed and intuitive explanations.'\n",
    "MAX_TOKENS=None\n",
    "TEMPERATURE=0.8"
   ]
  },
  {
   "cell_type": "markdown",
   "metadata": {},
   "source": [
    "---"
   ]
  },
  {
   "cell_type": "code",
   "execution_count": 2,
   "metadata": {},
   "outputs": [],
   "source": [
    "from IPython.display import Markdown, display\n",
    "from source.library.pdf import clean_text_from_pdf, extract_text_from_pdf\n",
    "from llm_workflow.openai import OpenAIChat, num_tokens, MODEL_COST_PER_TOKEN\n",
    "\n",
    "\n",
    "def create_model():\n",
    "    return OpenAIChat(MODEL, SYSTEM_MESSAGE, max_tokens=MAX_TOKENS, temperature=TEMPERATURE)"
   ]
  },
  {
   "cell_type": "code",
   "execution_count": 4,
   "metadata": {},
   "outputs": [
    {
     "name": "stdout",
     "output_type": "stream",
     "text": [
      "# of tokens: 15,090\n",
      "Cost if input tokens == 15,090:  $0.002\n",
      "Cost if output tokens == 15,090: $0.009\n"
     ]
    }
   ],
   "source": [
    "# download and extract text of pdf\n",
    "text = extract_text_from_pdf(pdf_path=URL)\n",
    "n_tokens = num_tokens(model_name=MODEL, value=text)\n",
    "print(f\"# of tokens: {n_tokens:,}\")\n",
    "print(f\"Cost if input tokens == {n_tokens:,}:  ${MODEL_COST_PER_TOKEN[MODEL]['input'] * n_tokens:.3f}\")  # noqa: E501\n",
    "print(f\"Cost if output tokens == {n_tokens:,}: ${MODEL_COST_PER_TOKEN[MODEL]['output'] * n_tokens:.3f}\")  # noqa: E501\n"
   ]
  },
  {
   "cell_type": "code",
   "execution_count": 7,
   "metadata": {},
   "outputs": [
    {
     "name": "stdout",
     "output_type": "stream",
     "text": [
      "70,292 characters before\n",
      "67,802 characters after\n",
      "Removed 3.54% of text\n",
      "Preview:\n",
      "---\n",
      "\n",
      "Implementing Remote Procedure Calls\n",
      "\n",
      "ANDREW D. BIRRELL and BRUCE JAY NELSON\n",
      "\n",
      "Xerox Palo Alto Research Center\n",
      "\n",
      "Remote procedure calls (RPC) appear to be a useful paradig m for providing communication across a  network between programs written in a high-level language. This paper describes a package providing  a remote procedure call facility, the options that face the designer of such a package, and the decisions\n",
      "\n",
      "~we made. We describe the overall structure of our RPC mechanism, our facilities fo\n",
      "\n",
      "...\n",
      "\n",
      "rmance without adopting  extreme measures, and without sacrificing useful call and parameter semantics.\n",
      "\n",
      "The techniques for managing transport level connections so as to minimize the  communication costs and the state that must be maintained by a server are  important in our experience of servers dealing with large numbers of users. Our  binding semantics are quite powerful, but conceptually simple for a programmer  familiar with single machine binding. They were easy and efficient to implement.\n"
     ]
    }
   ],
   "source": [
    "# removed text before `INCLUDE_AT` and after `EXCLUDE_AT`\n",
    "chars_before = len(text)\n",
    "print(f\"{chars_before:,} characters before\")\n",
    "text = clean_text_from_pdf(text=text, include_at=INCLUDE_AT, exclude_at=EXCLUDE_AT)\n",
    "chars_after = len(text)\n",
    "print(f\"{chars_after:,} characters after\")\n",
    "print(f\"Removed {abs((chars_after - chars_before) / chars_before):.2%} of text\")\n",
    "print(\"Preview:\\n---\\n\")\n",
    "print(text[:500])\n",
    "print(\"\\n...\\n\")\n",
    "print(text[-500:])"
   ]
  },
  {
   "cell_type": "code",
   "execution_count": 8,
   "metadata": {},
   "outputs": [
    {
     "name": "stdout",
     "output_type": "stream",
     "text": [
      "# of tokens: 14,086\n",
      "Input cost if input tokens == 14,086:   $0.002\n",
      "Output cost if output tokens == 14,086: $0.008\n",
      "\n",
      "---\n",
      "\n",
      "# of Tokens and Cost including the prompt\n",
      "# of tokens: 27,254\n",
      "Input cost if input tokens == 27,254:   $0.004\n",
      "Output cost if output tokens == 27,254: $0.016\n"
     ]
    }
   ],
   "source": [
    "n_tokens = num_tokens(model_name=MODEL, value=text)\n",
    "print(f\"# of tokens: {n_tokens:,}\")\n",
    "print(f\"Input cost if input tokens == {n_tokens:,}:   ${MODEL_COST_PER_TOKEN[MODEL]['input'] * n_tokens:.3f}\")\n",
    "print(f\"Output cost if output tokens == {n_tokens:,}: ${MODEL_COST_PER_TOKEN[MODEL]['output'] * n_tokens:.3f}\")\n",
    "print(\"\\n---\\n\")\n",
    "\n",
    "with open(\"source/library/prompts/summarize_pdf.txt\") as f:\n",
    "    summary_prompt = f.read()\n",
    "\n",
    "model = create_model()\n",
    "prompt = f\"\"\"\n",
    "{summary_prompt}\n",
    "\n",
    "Here is the paper:\n",
    "\n",
    "{text}\n",
    "\"\"\"\n",
    "\n",
    "print(\"# of Tokens and Cost including the prompt\")\n",
    "n_tokens = num_tokens(model_name=MODEL, value=prompt)\n",
    "print(f\"# of tokens: {n_tokens:,}\")\n",
    "print(f\"Input cost if input tokens == {n_tokens:,}:   ${MODEL_COST_PER_TOKEN[MODEL]['input'] * n_tokens:.3f}\")\n",
    "print(f\"Output cost if output tokens == {n_tokens:,}: ${MODEL_COST_PER_TOKEN[MODEL]['output'] * n_tokens:.3f}\")"
   ]
  },
  {
   "cell_type": "code",
   "execution_count": 9,
   "metadata": {},
   "outputs": [
    {
     "name": "stdout",
     "output_type": "stream",
     "text": [
      "Cost: $0.005\n"
     ]
    },
    {
     "data": {
      "text/markdown": [
       "# Implementing Remote Procedure Calls\n",
       "\n",
       "## Introduction\n",
       "\n",
       "Remote Procedure Calls (RPC) is a communication paradigm designed to facilitate communication across a network between software programs written in a high-level language.\n",
       "\n",
       "- The fundamental concept behind RPC is to extend the familiar mechanism of **procedure calls** (used for transferring control and data within a single program) to enable communications across a network. \n",
       "- When the calling program invokes a remote procedure, it temporarily suspends its operation, sends parameters over the network to the target environment (the callee), executes the procedure there, and returns results to resume operation as if it were a local call.\n",
       "\n",
       "The motivation for implementing RPC includes:\n",
       "- **Clean and Simple Semantics**: This makes it easier to construct and debug distributed applications.\n",
       "- **Efficiency**: Procedure calls can be optimized for rapid communication.\n",
       "- **Generality**: Procedures are a central feature in algorithms for communication within single-machine computations.\n",
       "\n",
       "Despite its theoretical appeal, full-scale implementations of RPC have historically been limited. This paper presents the design and implementation of an RPC facility developed for the Cedar project, which provides insights into design choices and performance optimizations.\n",
       "\n",
       "## Environment\n",
       "\n",
       "The RPC package was designed primarily for use within the **Cedar programming environment**, which operates across the Xerox research internetwork. \n",
       "\n",
       "- Cedar emphasizes powerful and convenient programming, with features supporting highly interactive user interfaces and ease of debugging.\n",
       "- The environment primarily involves **Dorado** machines, known for their high performance, utilizing a 3-megabit-per-second Ethernet for communication.\n",
       "\n",
       "The internetwork comprises multiple Ethernets connected by various links, enabling RPC communication to largely occur over local networks, minimizing the impact of lower data rates on users.\n",
       "\n",
       "## Aims\n",
       "\n",
       "The main purpose of the RPC project is to simplify the construction of distributed applications, as building communicating programs has traditionally been a complex task that only experts could manage. \n",
       "\n",
       "### Primary Goals:\n",
       "- **Ease of Use**: Enable communication as easily as local procedure calls to encourage experimentation with distributed applications.\n",
       "- **Efficiency**: Maintain communication efficiency to prevent developers from avoiding network communication due to performance concerns.\n",
       "- **Powerful Semantics**: Ensure that RPC semantics are robust enough to eliminate the need for additional mechanisms atop the RPC package.\n",
       "- **Security**: Include provisions for secure communication, addressing a gap in previous protocols.\n",
       "\n",
       "### Secondary Goals:\n",
       "- Achieve a communication efficiency within a factor of five of necessary network transmission times.\n",
       "- Design RPC semantics that retain simplicity without sacrificing power or performance.\n",
       "\n",
       "## Fundamental Decisions\n",
       "\n",
       "The design choices for the RPC package include opting for procedure calls over alternatives like message passing or remote forking.\n",
       "\n",
       "- The decision to use procedure calls stems from their integration into the **Mesa** programming language, which is central to the environment.\n",
       "- A shared address space among computers was dismissed due to the complexities it would introduce and the inefficiencies in implementation.\n",
       "- A guiding principle was to keep RPC semantics closely aligned with local procedure calls to enhance usability for programmers experienced in single-machine operations.\n",
       "\n",
       "### Key Design Principles:\n",
       "1. **Simplicity**: The RPC calls should mimic local procedure calls to minimize user complexity.\n",
       "2. **Efficiency**: Aim for high performance while maintaining the ease of use.\n",
       "3. **Robustness**: Ensure the system can adequately handle communication and machine failures.\n",
       "\n",
       "## Structure\n",
       "\n",
       "The RPC system's architecture incorporates several components that facilitate its operations:\n",
       "\n",
       "- **User**: Initiates the RPC.\n",
       "- **User-Stub**: Acts as an intermediary that prepares and sends requests.\n",
       "- **RPCRuntime**: Manages the communication and ensures reliable transmission.\n",
       "- **Server-Stub**: Receives requests and invokes the appropriate procedure on the server.\n",
       "- **Server**: Executes the procedure and returns results.\n",
       "\n",
       "When a user invokes an RPC, the user-stub packages the procedure call and parameters into packets for transmission by the RPCRuntime, which manages retransmission, acknowledgments, and routing.\n",
       "\n",
       "### Stub Generation:\n",
       "A tool named **Lupine** generates the user and server stubs based on interface modules defined in the Mesa programming language. \n",
       "\n",
       "- The interface module contains procedure names along with argument types, enabling compile-time type checks and appropriate calling sequences without manual coding of communication logic.\n",
       "\n",
       "## Binding\n",
       "\n",
       "The binding process involves two key elements: specifying the desired interface and locating the appropriate exporter.\n",
       "\n",
       "### Naming\n",
       "- The RPC mechanism binds an importer of an interface to an exporter. Each interface is defined by a type and an instance, which serve to identify the procedures to be invoked remotely.\n",
       "\n",
       "### Locating an Exporter\n",
       "The **Grapevine** distributed database is employed for binding in the RPC package. \n",
       "\n",
       "- Grapevine maintains records of the network addresses for exported interfaces, permitting reliable and efficient lookups.\n",
       "- This approach avoids hardcoding addresses in application programs and minimizes interference with other network activity.\n",
       "\n",
       "### Binding Process:\n",
       "1. An exporter registers its interface with Grapevine, identifying its export procedure and associated network address.\n",
       "2. An importer requests binding by querying Grapevine, which returns the address of an active exporter along with its unique identifier.\n",
       "3. Once bound, the user-stub can make remote calls to the specified procedures seamlessly.\n",
       "\n",
       "## Packet-Level Transport Protocol\n",
       "\n",
       "### Requirements\n",
       "While RPC could utilize existing transport protocols, the authors argue that a specialized protocol tailored for RPC communications yields significant performance advantages.\n",
       "\n",
       "### Simple Calls\n",
       "The protocol aims to minimize the real-time elapsed between initiating a call and receiving results. \n",
       "\n",
       "- Call packets include a unique call identifier to manage requests and responses, allowing the system to efficiently handle lost packets and duplicate calls.\n",
       "\n",
       "### Complicated Calls\n",
       "For calls involving multiple packets, the protocol ensures sequences are acknowledged appropriately, maintaining the integrity of data transfer.\n",
       "\n",
       "- Mechanisms for retransmission and acknowledgment are built into the protocol for reliability.\n",
       "\n",
       "### Exception Handling\n",
       "The RPC implementation mimics the exception handling in the Mesa language by allowing server procedures to signal exceptions back to the caller, maintaining the semantics of local calls.\n",
       "\n",
       "## Performance\n",
       "\n",
       "Performance tests conducted on the RPC system show promising results in terms of efficiency and response times for remote calls.\n",
       "\n",
       "- The measurements take into account various factors, including communication load and network conditions. \n",
       "- The results indicate that communication overhead is minimal, particularly for local calls across the same network.\n",
       "\n",
       "## Status and Discussions\n",
       "\n",
       "The RPC package has been fully implemented and utilized in various projects including file servers and real-time applications. \n",
       "\n",
       "- The performance and usability of the system suggest that RPC can facilitate the development of new distributed applications that were previously infeasible due to communication complexities.\n",
       "- Ongoing research will address any emerging needs for further optimizations or additional features, particularly regarding security and protocol enhancements.\n",
       "\n",
       "The design and implementation of the RPC package highlighted here represent a significant advancement in making distributed systems easier to build and more reliable in performance."
      ],
      "text/plain": [
       "<IPython.core.display.Markdown object>"
      ]
     },
     "metadata": {},
     "output_type": "display_data"
    }
   ],
   "source": [
    "\n",
    "response = model(prompt)\n",
    "with open('summary.txt', 'w') as f:\n",
    "    f.write(response)\n",
    "cost = model.cost\n",
    "print(f\"Cost: ${cost:.3f}\")\n",
    "display(Markdown(response))"
   ]
  },
  {
   "cell_type": "code",
   "execution_count": 10,
   "metadata": {},
   "outputs": [
    {
     "name": "stdout",
     "output_type": "stream",
     "text": [
      "Total Cost:            $0.00492\n",
      "Total Tokens:          28,713\n",
      "Total Prompt Tokens:   27,342\n",
      "Total Response Tokens: 1,371\n"
     ]
    }
   ],
   "source": [
    "print(f\"Total Cost:            ${model.cost:.5f}\")\n",
    "print(f\"Total Tokens:          {model.total_tokens:,}\")\n",
    "print(f\"Total Prompt Tokens:   {model.input_tokens:,}\")\n",
    "print(f\"Total Response Tokens: {model.response_tokens:,}\")"
   ]
  },
  {
   "cell_type": "markdown",
   "metadata": {},
   "source": [
    "---"
   ]
  },
  {
   "cell_type": "code",
   "execution_count": null,
   "metadata": {},
   "outputs": [],
   "source": [
    "prompt = \"Do the authors discuss the specifics or different scenarios of when not to use cosine similarity?\"\n",
    "response = model(prompt)\n",
    "cost = model.cost\n",
    "print(f\"Cost: ${cost:.3f}\")\n",
    "display(Markdown(response))"
   ]
  },
  {
   "cell_type": "markdown",
   "metadata": {},
   "source": [
    "---"
   ]
  }
 ],
 "metadata": {
  "kernelspec": {
   "display_name": "Python 3",
   "language": "python",
   "name": "python3"
  },
  "language_info": {
   "codemirror_mode": {
    "name": "ipython",
    "version": 3
   },
   "file_extension": ".py",
   "mimetype": "text/x-python",
   "name": "python",
   "nbconvert_exporter": "python",
   "pygments_lexer": "ipython3",
   "version": "3.12.5"
  }
 },
 "nbformat": 4,
 "nbformat_minor": 2
}
