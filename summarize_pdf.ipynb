{
 "cells": [
  {
   "cell_type": "code",
   "execution_count": 29,
   "metadata": {},
   "outputs": [],
   "source": [
    "# URL = 'https://arxiv.org/pdf/2403.18802.pdf'\n",
    "URL = '/Users/shanekercheval/Downloads/ud923-rosenblum-garfinkel-paper.pdf'\n",
    "\n",
    "# when extracting the text from the PDF, INCLUDE_AT and EXCLUDE_AT are used to determine where to\n",
    "# start and stop extracting text. For example, if INCLUDE_AT is 'Abstract' and EXCLUDE_AT is\n",
    "# 'Acknowledgements', then the text extraction will start at (and include) the first occurrence of\n",
    "# 'Abstract' and stop at (and Exclude) the first occurrence of 'Acknowledgements'.\n",
    "# INCLUDE_AT = \"ABSTRACT\"\n",
    "INCLUDE_AT = \"Virtual Machine\"\n",
    "# EXCLUDE_AT = \"Acknowledgements\"\n",
    "EXCLUDE_AT = \"References\"\n",
    "\n",
    "# MODEL = 'gpt-3.5-turbo-0125'\n",
    "# MODEL = 'gpt-4-0125-preview'\n",
    "MODEL = 'gpt-4o-mini'\n",
    "SYSTEM_MESSAGE = 'You are an AI assistant that gives detailed and intuitive explanations.'\n",
    "MAX_TOKENS=None\n",
    "TEMPERATURE=0.8"
   ]
  },
  {
   "cell_type": "markdown",
   "metadata": {},
   "source": [
    "---"
   ]
  },
  {
   "cell_type": "code",
   "execution_count": 37,
   "metadata": {},
   "outputs": [],
   "source": [
    "from IPython.display import Markdown, display\n",
    "from source.library.pdf import clean_text_from_pdf, extract_text_from_pdf\n",
    "from llm_workflow.openai import OpenAIChat, num_tokens, MODEL_COST_PER_TOKEN\n",
    "\n",
    "\n",
    "def create_model():\n",
    "    return OpenAIChat(MODEL, SYSTEM_MESSAGE, max_tokens=MAX_TOKENS, temperature=TEMPERATURE)"
   ]
  },
  {
   "cell_type": "code",
   "execution_count": 40,
   "metadata": {},
   "outputs": [
    {
     "name": "stdout",
     "output_type": "stream",
     "text": [
      "# of tokens: 9,764\n",
      "Cost if input tokens == 9,764:  $0.001\n",
      "Cost if output tokens == 9,764: $0.006\n"
     ]
    }
   ],
   "source": [
    "# download and extract text of pdf\n",
    "text = extract_text_from_pdf(pdf_path=URL)\n",
    "n_tokens = num_tokens(model_name=MODEL, value=text + SYSTEM_MESSAGE)\n",
    "print(f\"# of tokens: {n_tokens:,}\")\n",
    "print(f\"Cost if input tokens == {n_tokens:,}:  ${MODEL_COST_PER_TOKEN[MODEL]['input'] * n_tokens:.3f}\")  # noqa: E501\n",
    "print(f\"Cost if output tokens == {n_tokens:,}: ${MODEL_COST_PER_TOKEN[MODEL]['output'] * n_tokens:.3f}\")  # noqa: E501\n"
   ]
  },
  {
   "cell_type": "code",
   "execution_count": 41,
   "metadata": {},
   "outputs": [
    {
     "name": "stdout",
     "output_type": "stream",
     "text": [
      "42,707 characters before\n",
      "40,184 characters after\n",
      "Removed 5.91% of text\n",
      "Preview:\n",
      "---\n",
      "\n",
      "Virtual Machine\n",
      "\n",
      "Monitors: CurrentTechnology and Future Trends\n",
      "\n",
      "A t the end of the 1960s, the virtual machine monitor (VMM) came into being as a soft- ware-abstraction layer that partitions a hardware platform into one or more virtual machines.1 Each of these virtual machines was sufﬁciently similar to the underlying physical machine to run existing software unmodiﬁed.\n",
      "\n",
      "At the time, general-purpose computing was the domain of large, expensive mainframe hardware, and users found that VMMs provide\n",
      "\n",
      "...\n",
      "\n",
      "ndoning the strategy of procuring individual machines and tightly bundling complex software environments.\n",
      "\n",
      "VMMs are giving these fragile, difﬁcult-to-manage systems new freedom. In coming years, virtual machines will move beyond their simple provi- sioning capabilities and beyond the machine room to provide a fundamental building block for mobility, security, and usability on the desktop.\n",
      "\n",
      "Indeed, VMM capabilities should continue to be an important part of the shift in the computing landscape. ■\n"
     ]
    }
   ],
   "source": [
    "# removed text before `INCLUDE_AT` and after `EXCLUDE_AT`\n",
    "chars_before = len(text)\n",
    "print(f\"{chars_before:,} characters before\")\n",
    "text = clean_text_from_pdf(text=text, include_at=INCLUDE_AT, exclude_at=EXCLUDE_AT)\n",
    "chars_after = len(text)\n",
    "print(f\"{chars_after:,} characters after\")\n",
    "print(f\"Removed {abs((chars_after - chars_before) / chars_before):.2%} of text\")\n",
    "print(\"Preview:\\n---\\n\")\n",
    "print(text[:500])\n",
    "print(\"\\n...\\n\")\n",
    "print(text[-500:])"
   ]
  },
  {
   "cell_type": "code",
   "execution_count": 42,
   "metadata": {},
   "outputs": [
    {
     "name": "stdout",
     "output_type": "stream",
     "text": [
      "# of tokens: 7,793\n",
      "Input cost if input tokens == 7,793:   $0.001\n",
      "Output cost if output tokens == 7,793: $0.005\n"
     ]
    }
   ],
   "source": [
    "n_tokens = num_tokens(model_name=MODEL, value=text)\n",
    "print(f\"# of tokens: {n_tokens:,}\")\n",
    "print(f\"Input cost if input tokens == {n_tokens:,}:   ${MODEL_COST_PER_TOKEN[MODEL]['input'] * n_tokens:.3f}\")\n",
    "print(f\"Output cost if output tokens == {n_tokens:,}: ${MODEL_COST_PER_TOKEN[MODEL]['output'] * n_tokens:.3f}\")"
   ]
  },
  {
   "cell_type": "code",
   "execution_count": 43,
   "metadata": {},
   "outputs": [
    {
     "name": "stdout",
     "output_type": "stream",
     "text": [
      "Cost: $0.002\n"
     ]
    },
    {
     "data": {
      "text/markdown": [
       "# Study Guide: Virtual Machine Monitors: Current Technology and Future Trends\n",
       "\n",
       "## Virtual Machine Monitors: Current Technology and Future Trends\n",
       "\n",
       "### Introduction to Virtual Machine Monitors (VMMs)\n",
       "\n",
       "- **Virtual Machine Monitor (VMM)**: A software layer that partitions hardware into one or more virtual machines, each capable of running existing software without modification.\n",
       "- The original use of VMMs emerged in the late 1960s, primarily for large, expensive mainframe computers. Users found VMMs useful for multiplexing these scarce resources across multiple applications.\n",
       "- In the late 1980s and early 1990s, the rise of multitasking operating systems and decreased hardware costs diminished the necessity for VMMs, leading to their decline.\n",
       "- The resurgence of VMMs around 2005 represents a renewed interest in their advantages, including enhanced mobility, security, and manageability in the face of evolving technological challenges.\n",
       "\n",
       "### Why the Revival?\n",
       "\n",
       "- VMMs are re-emerging due to:\n",
       "  - The increase in low-cost hardware leading to underutilization of resources.\n",
       "  - The complexity of modern operating systems, which have become fragile and vulnerable due to their increased capabilities.\n",
       "- The VMM allows consolidation of multiple applications that previously ran on separate machines into fewer physical servers, thus optimizing resource use.\n",
       "- **Server Consolidation**: The practice of running multiple virtual machines on fewer physical machines to reduce costs and improve efficiency.\n",
       "\n",
       "### Decoupling Hardware and Software\n",
       "\n",
       "- VMMs create a layer of indirection between virtual machines and the underlying hardware, which allows:\n",
       "  - Control over how guest operating systems (GuestOSs) utilize hardware resources.\n",
       "  - A uniform view of the hardware, enabling different machines to be treated as interchangeable.\n",
       "- Key benefits of VMMs include:\n",
       "  - Complete encapsulation of a virtual machine's software state, allowing for easy migration and load balancing.\n",
       "  - Robust recovery options, such as suspending, checkpointing, and rolling back virtual machines.\n",
       "  - Strong isolation between virtual machines, increasing reliability and security.\n",
       "\n",
       "### VMM Implementation Issues\n",
       "\n",
       "- Successful VMM design must balance:\n",
       "  - **Compatibility**: The ability to run existing software without modification.\n",
       "  - **Performance**: Minimizing virtualization overhead to ensure virtual machines run efficiently.\n",
       "  - **Simplicity**: Reducing complexity to prevent failures that could affect multiple virtual machines.\n",
       "- The VMM must effectively manage CPU, memory, and I/O virtualization to support these goals.\n",
       "\n",
       "#### CPU Virtualization\n",
       "\n",
       "- **CPU Virtualization**: The process by which the VMM allows multiple guest operating systems to run on a single CPU while maintaining control.\n",
       "- Direct execution is the primary method, where the VMM executes virtual machines on real hardware while managing privileged operations.\n",
       "- Challenges arise, particularly with architectures like x86, which require innovative solutions like paravirtualization or binary translation for effective virtualization.\n",
       "\n",
       "#### Memory Virtualization\n",
       "\n",
       "- **Memory Virtualization**: A technique where the VMM uses shadow page tables to manage memory allocations between virtual machines.\n",
       "- Benefits include dynamic memory allocation and the ability to overcommit memory resources, allowing more virtual machines than physical memory would typically support.\n",
       "- Challenges involve keeping shadow page tables updated and reducing redundant memory usage across multiple virtual instances.\n",
       "\n",
       "#### I/O Virtualization\n",
       "\n",
       "- **I/O Virtualization**: The management of input/output operations from virtual machines to physical devices.\n",
       "- The evolution from IBM's channel-based architecture to modern x86 environments complicates I/O virtualization due to diverse device interfaces.\n",
       "- VMware addresses I/O challenges with a hosted architecture that utilizes host operating system drivers, balancing performance and flexibility.\n",
       "\n",
       "### What’s Ahead?\n",
       "\n",
       "- The future of VMMs in server management will involve dynamic allocation of resources, automatic load balancing, and fast migration of virtual machines to ensure continuity and efficiency.\n",
       "- On the desktop, VMMs can simplify the management of computing environments, allowing for greater mobility and user flexibility.\n",
       "- The security potential of VMMs lies in their ability to isolate different software stacks and provide a previously unattainable level of assurance against attacks.\n",
       "- Software distribution could also be revolutionized, with entire applications being packaged as virtual appliances, simplifying deployment and maintenance.\n",
       "\n",
       "### Conclusion\n",
       "\n",
       "- The resurgence of VMMs represents a paradigm shift in how software and hardware can be managed. As computing environments evolve, VMMs will play a crucial role in addressing future challenges related to mobility, security, and usability.\n",
       "- The versatility and efficiency of VMMs will continue to shape the computing landscape, emphasizing their importance in the modern technological ecosystem. \n",
       "\n",
       "This study guide provides a structured overview of the key concepts and discussions within the paper, helping readers to understand the historical context, current trends, and future potential of Virtual Machine Monitors."
      ],
      "text/plain": [
       "<IPython.core.display.Markdown object>"
      ]
     },
     "metadata": {},
     "output_type": "display_data"
    }
   ],
   "source": [
    "with open(\"source/library/prompts/summarize_pdf.txt\") as f:\n",
    "    summary_prompt = f.read()\n",
    "\n",
    "model = create_model()\n",
    "prompt = f\"\"\"\n",
    "{summary_prompt}\n",
    "\n",
    "Here is the paper:\n",
    "\n",
    "{text}\n",
    "\"\"\"\n",
    "\n",
    "response = model(prompt)\n",
    "with open('summary.txt', 'w') as f:\n",
    "    f.write(response)\n",
    "cost = model.cost\n",
    "print(f\"Cost: ${cost:.3f}\")\n",
    "display(Markdown(response))"
   ]
  },
  {
   "cell_type": "code",
   "execution_count": 11,
   "metadata": {},
   "outputs": [
    {
     "name": "stdout",
     "output_type": "stream",
     "text": [
      "Total Cost:            $0.10213\n",
      "Total Tokens:          8,753\n",
      "Total Prompt Tokens:   8,023\n",
      "Total Response Tokens: 730\n"
     ]
    }
   ],
   "source": [
    "print(f\"Total Cost:            ${model.cost:.5f}\")\n",
    "print(f\"Total Tokens:          {model.total_tokens:,}\")\n",
    "print(f\"Total Prompt Tokens:   {model.input_tokens:,}\")\n",
    "print(f\"Total Response Tokens: {model.response_tokens:,}\")"
   ]
  },
  {
   "cell_type": "markdown",
   "metadata": {},
   "source": [
    "---"
   ]
  },
  {
   "cell_type": "code",
   "execution_count": null,
   "metadata": {},
   "outputs": [],
   "source": [
    "prompt = \"Do the authors discuss the specifics or different scenarios of when not to use cosine similarity?\"\n",
    "response = model(prompt)\n",
    "cost = model.cost\n",
    "print(f\"Cost: ${cost:.3f}\")\n",
    "display(Markdown(response))"
   ]
  },
  {
   "cell_type": "markdown",
   "metadata": {},
   "source": [
    "---"
   ]
  }
 ],
 "metadata": {
  "kernelspec": {
   "display_name": "Python 3",
   "language": "python",
   "name": "python3"
  },
  "language_info": {
   "codemirror_mode": {
    "name": "ipython",
    "version": 3
   },
   "file_extension": ".py",
   "mimetype": "text/x-python",
   "name": "python",
   "nbconvert_exporter": "python",
   "pygments_lexer": "ipython3",
   "version": "3.12.5"
  }
 },
 "nbformat": 4,
 "nbformat_minor": 2
}
