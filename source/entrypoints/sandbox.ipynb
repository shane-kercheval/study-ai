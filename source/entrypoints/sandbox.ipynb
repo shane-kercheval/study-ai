{
 "cells": [
  {
   "cell_type": "code",
   "execution_count": 1,
   "metadata": {},
   "outputs": [
    {
     "data": {
      "text/plain": [
       "'Hello! How can I assist you today?'"
      ]
     },
     "execution_count": 1,
     "metadata": {},
     "output_type": "execute_result"
    }
   ],
   "source": [
    "# from llm_workflow.openai import OpenAIChat\n",
    "\n",
    "# model = OpenAIChat()\n",
    "\n",
    "# model(\"hello\")"
   ]
  },
  {
   "cell_type": "code",
   "execution_count": 42,
   "metadata": {},
   "outputs": [
    {
     "name": "stdout",
     "output_type": "stream",
     "text": [
      "name='Introduction to Operating Systems' notes=[TextNote(priority=<Priority.medium: 'medium'>, reference=None, tags=[], text='This\\nis\\na\\nmultiline\\nnote.'), TextNote(priority=<Priority.medium: 'medium'>, reference=None, tags=[], text='This is another note.'), TextNote(priority=<Priority.high: 'high'>, reference='https://www.example.com', tags=[], text='This is a note with a reference.'), DefinitionNote(priority=<Priority.high: 'high'>, reference='https://www.example.com', tags=['Exam 1', 'Paper1'], term='Term', definition='Definition')] ident='CS 6200' abbreviation='GIOS' category='OMSCS' tags=['systems']\n"
     ]
    }
   ],
   "source": [
    "# load yaml file\n",
    "\n",
    "from abc import ABC, abstractmethod\n",
    "from textwrap import dedent\n",
    "from pydantic import BaseModel, field_validator\n",
    "import yaml\n",
    "from enum import Enum\n",
    "\n",
    "# enum Priority\n",
    "class Priority(str, Enum):\n",
    "    low = 'low'\n",
    "    medium = 'medium'\n",
    "    high = 'high'\n",
    "\n",
    "\n",
    "class Note(ABC, BaseModel):\n",
    "    priority: Priority = Priority.medium\n",
    "    reference: str | None = None\n",
    "    tags: list[str] = []\n",
    "\n",
    "    def uuid(self):\n",
    "        \"\"\"Return a unique identifier for the note (e.g. a hash of the content).\"\"\"\n",
    "        return hash('-'.join([f\"{k}={v}\" for k, v in self.dict().items()]))\n",
    "\n",
    "    @abstractmethod\n",
    "    def preview(self):\n",
    "        \"\"\"Render the 'preview' e.g. the 'question' or 'term' to give context.\"\"\"\n",
    "\n",
    "    @abstractmethod\n",
    "    def note(self):\n",
    "        \"\"\"Render the 'description' e.g. the 'answer' or 'definition' to provide more detail.\"\"\"\n",
    "\n",
    "\n",
    "class TextNote(Note):\n",
    "    text: str\n",
    "\n",
    "    @field_validator('text')\n",
    "    @classmethod\n",
    "    def text_validator(cls, t: str) -> str:\n",
    "        return dedent(t).strip()\n",
    "\n",
    "    def preview(self):\n",
    "        return self.text\n",
    "\n",
    "    def note(self):\n",
    "        return self.text\n",
    "\n",
    "\n",
    "class DefinitionNote(Note):\n",
    "    term: str\n",
    "    definition: str\n",
    "\n",
    "    @field_validator('term')\n",
    "    @classmethod\n",
    "    def term_validator(cls, t: str) -> str:\n",
    "        return dedent(t).strip()\n",
    "    \n",
    "    @field_validator('definition')\n",
    "    @classmethod\n",
    "    def definition_validator(cls, d: str) -> str:\n",
    "        return dedent(d).strip()\n",
    "\n",
    "    def preview(self):\n",
    "        return self.term\n",
    "\n",
    "    def note(self):\n",
    "        return self.definition\n",
    "\n",
    "\n",
    "class QuestionAnswerNote(Note):\n",
    "    question: str\n",
    "    answer: str\n",
    "\n",
    "    @field_validator('question')\n",
    "    @classmethod\n",
    "    def term_validator(cls, q: str) -> str:\n",
    "        return dedent(q).strip()\n",
    "    \n",
    "    @field_validator('answer')\n",
    "    @classmethod\n",
    "    def definition_validator(cls, a: str) -> str:\n",
    "        return dedent(a).strip()\n",
    "\n",
    "    def preview(self):\n",
    "        return self.question\n",
    "\n",
    "    def note(self):\n",
    "        return self.answer  \n",
    "\n",
    "\n",
    "class ClassNotes(BaseModel):\n",
    "    name: str\n",
    "    notes: list[Note] = []\n",
    "    ident: str | None = None\n",
    "    abbreviation: str | None = None\n",
    "    category: str | None = None\n",
    "    tags: list[str] = []\n",
    "\n",
    "    @classmethod\n",
    "    def from_dict(cls, data: dict):\n",
    "        \"\"\"Create a ClassNotes object from a dictionary.\"\"\"\n",
    "        notes = []\n",
    "        for note in data['notes']:\n",
    "            if isinstance(note, str):\n",
    "                notes.append(TextNote(text=note))\n",
    "            elif isinstance(note, dict):\n",
    "                if 'text' in note:\n",
    "                    notes.append(TextNote(**note))\n",
    "                elif 'term' in note and 'definition' in note:\n",
    "                    notes.append(DefinitionNote(**note))\n",
    "                elif 'question' in note and 'answer' in note:\n",
    "                    notes.append(QuestionAnswerNote(**note))\n",
    "                else:\n",
    "                    raise ValueError(f\"Invalid note type: {note}\")\n",
    "            else:\n",
    "                raise ValueError(f\"Invalid note type: {note}\")\n",
    "        data['notes'] = notes\n",
    "        return ClassNotes(**data)\n",
    "\n",
    "\n",
    "with open(\"../../tests/test_files/notes1.yaml\", \"r\") as f:\n",
    "    notes = yaml.safe_load(f)\n",
    "\n",
    "\n",
    "class_notes = ClassNotes.from_dict(notes)\n",
    "print(class_notes)"
   ]
  },
  {
   "cell_type": "code",
   "execution_count": 344,
   "metadata": {},
   "outputs": [
    {
     "data": {
      "text/plain": [
       "{'class-category': 'OMSCS',\n",
       " 'class-ident': 'CS 6200',\n",
       " 'class-name': 'Introduction to Operating Systems',\n",
       " 'class-abbreviation': 'GIOS',\n",
       " 'class-tags': 'Introduction to Operating Systems',\n",
       " 'note-priority': <Priority.high: 'high'>,\n",
       " 'note-reference': 'https://www.example.com',\n",
       " 'note-tags': ['Exam 1', 'Paper1'],\n",
       " 'note-preview': 'Term',\n",
       " 'note-note': 'Definition',\n",
       " 'history': (1, 1)}"
      ]
     },
     "execution_count": 344,
     "metadata": {},
     "output_type": "execute_result"
    }
   ],
   "source": [
    "import numpy as np\n",
    "\n",
    "class StudyNotes:\n",
    "    def __init__(self, class_notes: list[ClassNotes], history: dict[int, tuple[int, int]] | None = None):\n",
    "        self.history = history or {}\n",
    "        self.class_notes = class_notes\n",
    "        # TODO it's possible that notes from different classes (or the same) have the same uuid\n",
    "        self.test_bank = {}\n",
    "        for class_note in class_notes:\n",
    "            for note in class_note.notes:\n",
    "                self.test_bank[note.uuid()] = {\n",
    "                    'class-category': class_note.category,\n",
    "                    'class-ident': class_note.ident,\n",
    "                    'class-name': class_note.name,\n",
    "                    'class-abbreviation': class_note.abbreviation,\n",
    "                    'class-tags': class_note.name,\n",
    "                    'note-priority': note.priority,\n",
    "                    'note-reference': note.reference or '',\n",
    "                    'note-tags': note.tags,\n",
    "                    'note-preview': note.preview(),\n",
    "                    'note-note': note.note(),\n",
    "                    'history': self.history[note.uuid()] if note.uuid() in self.history else (1, 1),\n",
    "                }\n",
    "\n",
    "    def draw(self):\n",
    "        \"\"\"Draw a note from the class notes.\"\"\"\n",
    "        probabilities = {\n",
    "            k: np.random.beta(v['history'][0], v['history'][1], 1)[0]\n",
    "            for k, v in self.test_bank.items()\n",
    "        }\n",
    "        # softmax probabilities across all values\n",
    "        sum_probs = sum(probabilities.values())\n",
    "        probabilities = {k: v / sum_probs for k, v in probabilities.items()}\n",
    "        # draw a note\n",
    "        note_uuid = np.random.choice(list(probabilities.keys()), p=list(probabilities.values()))\n",
    "        return self.test_bank[note_uuid]\n",
    "\n",
    "\n",
    "study = StudyNotes([class_notes])\n",
    "study.draw()"
   ]
  },
  {
   "cell_type": "code",
   "execution_count": null,
   "metadata": {},
   "outputs": [],
   "source": []
  },
  {
   "cell_type": "code",
   "execution_count": null,
   "metadata": {},
   "outputs": [],
   "source": []
  },
  {
   "cell_type": "code",
   "execution_count": null,
   "metadata": {},
   "outputs": [],
   "source": []
  },
  {
   "cell_type": "code",
   "execution_count": null,
   "metadata": {},
   "outputs": [],
   "source": []
  },
  {
   "cell_type": "code",
   "execution_count": null,
   "metadata": {},
   "outputs": [],
   "source": []
  },
  {
   "cell_type": "code",
   "execution_count": null,
   "metadata": {},
   "outputs": [],
   "source": []
  },
  {
   "cell_type": "code",
   "execution_count": null,
   "metadata": {},
   "outputs": [],
   "source": []
  },
  {
   "cell_type": "code",
   "execution_count": null,
   "metadata": {},
   "outputs": [],
   "source": []
  },
  {
   "cell_type": "code",
   "execution_count": 168,
   "metadata": {},
   "outputs": [
    {
     "data": {
      "text/plain": [
       "(0.0, 1.0)"
      ]
     },
     "execution_count": 168,
     "metadata": {},
     "output_type": "execute_result"
    },
    {
     "data": {
      "image/png": "[encoded data removed]",
      "text/plain": [
       "<Figure size 640x480 with 1 Axes>"
      ]
     },
     "metadata": {},
     "output_type": "display_data"
    }
   ],
   "source": [
    "# use beta distribution to draw notes\n",
    "import numpy as np\n",
    "import matplotlib.pyplot as plt\n",
    "\n",
    "# beta distribution\n",
    "correct, wrong = 50, 1\n",
    "# beta is the distribution of the probability of success\n",
    "beta = np.random.beta(correct, wrong, 1000)\n",
    "# if the probability of success (of answering the question) is high, then there is less need to study it and we can draw it less often\n",
    "beta = 1 - beta\n",
    "plt.hist(beta, bins=10)\n",
    "# fix the x-axis between 0 and 1\n",
    "plt.xlim(0, 1)"
   ]
  },
  {
   "cell_type": "code",
   "execution_count": null,
   "metadata": {},
   "outputs": [],
   "source": [
    "\n"
   ]
  },
  {
   "cell_type": "code",
   "execution_count": null,
   "metadata": {},
   "outputs": [],
   "source": []
  },
  {
   "cell_type": "code",
   "execution_count": null,
   "metadata": {},
   "outputs": [],
   "source": []
  }
 ],
 "metadata": {
  "kernelspec": {
   "display_name": "Python 3",
   "language": "python",
   "name": "python3"
  },
  "language_info": {
   "codemirror_mode": {
    "name": "ipython",
    "version": 3
   },
   "file_extension": ".py",
   "mimetype": "text/x-python",
   "name": "python",
   "nbconvert_exporter": "python",
   "pygments_lexer": "ipython3",
   "version": "3.11.9"
  }
 },
 "nbformat": 4,
 "nbformat_minor": 2
}
