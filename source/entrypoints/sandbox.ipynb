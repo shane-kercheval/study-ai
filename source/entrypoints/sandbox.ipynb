{
 "cells": [
  {
   "cell_type": "code",
   "execution_count": 1,
   "metadata": {},
   "outputs": [],
   "source": [
    "# from llm_workflow.openai import OpenAIChat\n",
    "\n",
    "# model = OpenAIChat()\n",
    "\n",
    "# model(\"hello\")"
   ]
  },
  {
   "cell_type": "code",
   "execution_count": 2,
   "metadata": {},
   "outputs": [
    {
     "name": "stdout",
     "output_type": "stream",
     "text": [
      "uuid='65A67658-8B85-41CF-8FCF-1A1D46F61690' subject_metadata={'category': 'OMSCS', 'ident': 'CS 6200', 'name': 'Graduate Introduction to Operating Systems', 'abbreviation': 'GIOS'} note_metadata={'source': \"Beej's Guide to Network Programming\", 'url': 'https://beej.us/guide/bgnet/pdf/bgnet_usl_c_1.pdf', 'tags': ['systems', 'c', 'networking']} notes=[DefinitionNote(priority=<Priority.medium: 'medium'>, reference=None, tags=[], term='What is a **socket**?', definition='A way to speak to other programs using standard Unix file descriptors.'), DefinitionNote(priority=<Priority.medium: 'medium'>, reference=None, tags=[], term='What is a file descriptor?', definition=\"An integer associated with an open file. But (and here's the catch), that file can be a `network connection`, a `FIFO`, a `pipe`, a `terminal`, a real on-the-disk `file`, or just about anything else.  Everything in Unix *is* a file.\\n\\nA file descriptor is a **small, non-negative integer** that a Unix or Unix-like operating system uses as a handle to access a file or other input/output resources, such as pipes and network sockets. (ChatGPT)\"), TextNote(priority=<Priority.medium: 'medium'>, reference='ChatGPT', tags=[], text='When a **file** or **resource** is opened by a process, the operating system creates an **entry** to represent that file or resource and returns a **file descriptor**, which can then be used in further system calls to read from, write to, or manipulate the file or resource.\\n\\n* File descriptors are used by the operating system to manage the details of input/output operations without exposing the underlying complexity to programs. Typically, file descriptors refer to: **File descriptor 0**: Standard input (stdin). **File descriptor 1**: Standard output. **File descriptor 2**: Standard error (stderr) Beyond these, any new files or resources opened by a process are assigned incrementally higher numbers for their file descriptors.')]\n"
     ]
    }
   ],
   "source": [
    "import yaml\n",
    "from source.library.notes import ClassNotes\n",
    "\n",
    "\n",
    "with open(\"../../tests/test_files/notes1.yaml\", \"r\") as f:\n",
    "    notes = yaml.safe_load(f)\n",
    "\n",
    "class_notes = ClassNotes.from_dict(notes)\n",
    "print(class_notes)"
   ]
  },
  {
   "cell_type": "code",
   "execution_count": 3,
   "metadata": {},
   "outputs": [
    {
     "data": {
      "text/plain": [
       "{'history': History(correct=0, incorrect=0),\n",
       " 'subject_metadata': {'category': 'OMSCS',\n",
       "  'ident': 'CS 6200',\n",
       "  'name': 'Graduate Introduction to Operating Systems',\n",
       "  'abbreviation': 'GIOS'},\n",
       " 'note_metadata': {'source': \"Beej's Guide to Network Programming\",\n",
       "  'url': 'https://beej.us/guide/bgnet/pdf/bgnet_usl_c_1.pdf',\n",
       "  'tags': ['systems', 'c', 'networking']},\n",
       " 'note': DefinitionNote(priority=<Priority.medium: 'medium'>, reference=None, tags=[], term='What is a file descriptor?', definition=\"An integer associated with an open file. But (and here's the catch), that file can be a `network connection`, a `FIFO`, a `pipe`, a `terminal`, a real on-the-disk `file`, or just about anything else.  Everything in Unix *is* a file.\\n\\nA file descriptor is a **small, non-negative integer** that a Unix or Unix-like operating system uses as a handle to access a file or other input/output resources, such as pipes and network sockets. (ChatGPT)\")}"
      ]
     },
     "execution_count": 3,
     "metadata": {},
     "output_type": "execute_result"
    }
   ],
   "source": [
    "from source.library.notes import TestBank\n",
    "\n",
    "test = TestBank([class_notes])\n",
    "draw = test.draw()\n",
    "draw"
   ]
  },
  {
   "cell_type": "code",
   "execution_count": 4,
   "metadata": {},
   "outputs": [],
   "source": [
    "draw['history'].correct_answer(True)"
   ]
  },
  {
   "cell_type": "code",
   "execution_count": 5,
   "metadata": {},
   "outputs": [
    {
     "data": {
      "text/plain": [
       "{'65A67658-8B85-41CF-8FCF-1A1D46F616901543924218491714636': History(correct=0, incorrect=0),\n",
       " '65A67658-8B85-41CF-8FCF-1A1D46F616907282420723014782182': History(correct=1, incorrect=0),\n",
       " '65A67658-8B85-41CF-8FCF-1A1D46F616901290987507323175295': History(correct=0, incorrect=0)}"
      ]
     },
     "execution_count": 5,
     "metadata": {},
     "output_type": "execute_result"
    }
   ],
   "source": [
    "\n",
    "test.get_history()"
   ]
  },
  {
   "cell_type": "code",
   "execution_count": null,
   "metadata": {},
   "outputs": [],
   "source": []
  },
  {
   "cell_type": "code",
   "execution_count": null,
   "metadata": {},
   "outputs": [],
   "source": []
  },
  {
   "cell_type": "code",
   "execution_count": null,
   "metadata": {},
   "outputs": [],
   "source": []
  },
  {
   "cell_type": "code",
   "execution_count": null,
   "metadata": {},
   "outputs": [],
   "source": []
  },
  {
   "cell_type": "code",
   "execution_count": null,
   "metadata": {},
   "outputs": [],
   "source": []
  },
  {
   "cell_type": "code",
   "execution_count": null,
   "metadata": {},
   "outputs": [],
   "source": []
  },
  {
   "cell_type": "code",
   "execution_count": null,
   "metadata": {},
   "outputs": [],
   "source": []
  },
  {
   "cell_type": "code",
   "execution_count": 6,
   "metadata": {},
   "outputs": [
    {
     "data": {
      "text/plain": [
       "(0.0, 1.0)"
      ]
     },
     "execution_count": 6,
     "metadata": {},
     "output_type": "execute_result"
    },
    {
     "data": {
      "image/png": "[encoded data removed]",
      "text/plain": [
       "<Figure size 640x480 with 1 Axes>"
      ]
     },
     "metadata": {},
     "output_type": "display_data"
    }
   ],
   "source": [
    "# use beta distribution to draw notes\n",
    "import numpy as np\n",
    "import matplotlib.pyplot as plt\n",
    "\n",
    "# beta distribution\n",
    "correct, wrong = 0, 0\n",
    "# beta is the distribution of the probability of success\n",
    "beta = np.random.beta(correct + 1, wrong + 1, 1000)\n",
    "# if the probability of success (of answering the question) is high, then there is less need to study it and we can draw it less often\n",
    "beta = 1 - beta\n",
    "plt.hist(beta, bins=10)\n",
    "# fix the x-axis between 0 and 1\n",
    "plt.xlim(0, 1)"
   ]
  },
  {
   "cell_type": "code",
   "execution_count": null,
   "metadata": {},
   "outputs": [],
   "source": [
    "\n"
   ]
  },
  {
   "cell_type": "code",
   "execution_count": null,
   "metadata": {},
   "outputs": [],
   "source": []
  },
  {
   "cell_type": "code",
   "execution_count": null,
   "metadata": {},
   "outputs": [],
   "source": []
  }
 ],
 "metadata": {
  "kernelspec": {
   "display_name": "Python 3",
   "language": "python",
   "name": "python3"
  },
  "language_info": {
   "codemirror_mode": {
    "name": "ipython",
    "version": 3
   },
   "file_extension": ".py",
   "mimetype": "text/x-python",
   "name": "python",
   "nbconvert_exporter": "python",
   "pygments_lexer": "ipython3",
   "version": "3.11.9"
  }
 },
 "nbformat": 4,
 "nbformat_minor": 2
}
