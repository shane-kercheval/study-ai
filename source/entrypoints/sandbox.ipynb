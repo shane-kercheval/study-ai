{
 "cells": [
  {
   "cell_type": "code",
   "execution_count": 1,
   "metadata": {},
   "outputs": [],
   "source": [
    "# from llm_workflow.openai import OpenAIChat\n",
    "\n",
    "# model = OpenAIChat()\n",
    "\n",
    "# model(\"hello\")"
   ]
  },
  {
   "cell_type": "code",
   "execution_count": 6,
   "metadata": {},
   "outputs": [
    {
     "name": "stdout",
     "output_type": "stream",
     "text": [
      "uuid='65A67658-8B85-41CF-8FCF-1A1D46F61690' subject_metadata={'category': 'OMSCS', 'ident': 'CS 6200', 'name': 'Graduate Introduction to Operating Systems', 'abbreviation': 'GIOS'} note_metadata={'source': \"Beej's Guide to Network Programming\", 'url': 'https://beej.us/guide/bgnet/pdf/bgnet_usl_c_1.pdf', 'tags': ['systems', 'c', 'networking']} notes=[DefinitionNote(priority=<Priority.medium: 'medium'>, reference=None, tags=[], term='What is a **socket**?', definition='A way to speak to other programs using standard Unix file descriptors.'), DefinitionNote(priority=<Priority.medium: 'medium'>, reference=None, tags=[], term='What is a file descriptor?', definition=\"An integer associated with an open file. But (and here's the catch), that file can be a `network connection`, a `FIFO`, a `pipe`, a `terminal`, a real on-the-disk `file`, or just about anything else.  Everything in Unix *is* a file.\\n\\nA file descriptor is a **small, non-negative integer** that a Unix or Unix-like operating system uses as a handle to access a file or other input/output resources, such as pipes and network sockets. (ChatGPT)\"), TextNote(priority=<Priority.medium: 'medium'>, reference='ChatGPT', tags=[], text='When a **file** or **resource** is opened by a process, the operating system creates an **entry** to represent that file or resource and returns a **file descriptor**, which can then be used in further system calls to read from, write to, or manipulate the file or resource.\\n\\n* File descriptors are used by the operating system to manage the details of input/output operations without exposing the underlying complexity to programs. Typically, file descriptors refer to: **File descriptor 0**: Standard input (stdin). **File descriptor 1**: Standard output. **File descriptor 2**: Standard error (stderr) Beyond these, any new files or resources opened by a process are assigned incrementally higher numbers for their file descriptors.')]\n"
     ]
    }
   ],
   "source": [
    "# load yaml file\n",
    "\n",
    "from abc import ABC, abstractmethod\n",
    "from textwrap import dedent\n",
    "from pydantic import BaseModel, field_validator\n",
    "import yaml\n",
    "from enum import Enum\n",
    "\n",
    "# enum Priority\n",
    "class Priority(str, Enum):\n",
    "    low = 'low'\n",
    "    medium = 'medium'\n",
    "    high = 'high'\n",
    "\n",
    "\n",
    "class Note(ABC, BaseModel):\n",
    "    priority: Priority = Priority.medium\n",
    "    reference: str | None = None\n",
    "    tags: list[str] = []\n",
    "\n",
    "    def uuid(self) -> str:\n",
    "        \"\"\"Return a unique identifier for the note (e.g. a hash of the content).\"\"\"\n",
    "        return str(hash('-'.join([f\"{k}={v}\" for k, v in self.dict().items()])))\n",
    "\n",
    "    @abstractmethod\n",
    "    def preview(self):\n",
    "        \"\"\"Render the 'preview' e.g. the 'question' or 'term' to give context.\"\"\"\n",
    "\n",
    "    @abstractmethod\n",
    "    def note(self):\n",
    "        \"\"\"Render the 'description' e.g. the 'answer' or 'definition' to provide more detail.\"\"\"\n",
    "\n",
    "\n",
    "class TextNote(Note):\n",
    "    text: str\n",
    "\n",
    "    @field_validator('text')\n",
    "    @classmethod\n",
    "    def text_validator(cls, t: str) -> str:\n",
    "        return dedent(t).strip()\n",
    "\n",
    "    def preview(self):\n",
    "        return self.text\n",
    "\n",
    "    def note(self):\n",
    "        return self.text\n",
    "\n",
    "\n",
    "class DefinitionNote(Note):\n",
    "    term: str\n",
    "    definition: str\n",
    "\n",
    "    @field_validator('term')\n",
    "    @classmethod\n",
    "    def term_validator(cls, t: str) -> str:\n",
    "        return dedent(t).strip()\n",
    "    \n",
    "    @field_validator('definition')\n",
    "    @classmethod\n",
    "    def definition_validator(cls, d: str) -> str:\n",
    "        return dedent(d).strip()\n",
    "\n",
    "    def preview(self):\n",
    "        return self.term\n",
    "\n",
    "    def note(self):\n",
    "        return self.definition\n",
    "\n",
    "\n",
    "class QuestionAnswerNote(Note):\n",
    "    question: str\n",
    "    answer: str\n",
    "\n",
    "    @field_validator('question')\n",
    "    @classmethod\n",
    "    def term_validator(cls, q: str) -> str:\n",
    "        return dedent(q).strip()\n",
    "    \n",
    "    @field_validator('answer')\n",
    "    @classmethod\n",
    "    def definition_validator(cls, a: str) -> str:\n",
    "        return dedent(a).strip()\n",
    "\n",
    "    def preview(self):\n",
    "        return self.question\n",
    "\n",
    "    def note(self):\n",
    "        return self.answer  \n",
    "\n",
    "\n",
    "class ClassNotes(BaseModel):\n",
    "    uuid: str\n",
    "    subject_metadata: dict = {}\n",
    "    note_metadata: dict = {}\n",
    "    notes: list[Note] = []\n",
    "\n",
    "    @classmethod\n",
    "    def from_dict(cls, data: dict):\n",
    "        \"\"\"Create a ClassNotes object from a dictionary.\"\"\"\n",
    "        notes = []\n",
    "        for note in data['notes']:\n",
    "            if isinstance(note, str):\n",
    "                notes.append(TextNote(text=note))\n",
    "            elif isinstance(note, dict):\n",
    "                if 'text' in note:\n",
    "                    notes.append(TextNote(**note))\n",
    "                elif 'term' in note and 'definition' in note:\n",
    "                    notes.append(DefinitionNote(**note))\n",
    "                elif 'question' in note and 'answer' in note:\n",
    "                    notes.append(QuestionAnswerNote(**note))\n",
    "                else:\n",
    "                    raise ValueError(f\"Invalid note type: {note}\")\n",
    "            else:\n",
    "                raise ValueError(f\"Invalid note type: {note}\")\n",
    "        data['notes'] = notes\n",
    "        return ClassNotes(**data)\n",
    "\n",
    "\n",
    "with open(\"../../tests/test_files/notes1.yaml\", \"r\") as f:\n",
    "    notes = yaml.safe_load(f)\n",
    "\n",
    "\n",
    "class_notes = ClassNotes.from_dict(notes)\n",
    "print(class_notes)"
   ]
  },
  {
   "cell_type": "code",
   "execution_count": 59,
   "metadata": {},
   "outputs": [
    {
     "data": {
      "text/plain": [
       "{'history': History(correct=0, incorrect=0),\n",
       " 'subject_metadata': {'category': 'OMSCS',\n",
       "  'ident': 'CS 6200',\n",
       "  'name': 'Graduate Introduction to Operating Systems',\n",
       "  'abbreviation': 'GIOS'},\n",
       " 'note_metadata': {'source': \"Beej's Guide to Network Programming\",\n",
       "  'url': 'https://beej.us/guide/bgnet/pdf/bgnet_usl_c_1.pdf',\n",
       "  'tags': ['systems', 'c', 'networking']},\n",
       " 'note': TextNote(priority=<Priority.medium: 'medium'>, reference='ChatGPT', tags=[], text='When a **file** or **resource** is opened by a process, the operating system creates an **entry** to represent that file or resource and returns a **file descriptor**, which can then be used in further system calls to read from, write to, or manipulate the file or resource.\\n\\n* File descriptors are used by the operating system to manage the details of input/output operations without exposing the underlying complexity to programs. Typically, file descriptors refer to: **File descriptor 0**: Standard input (stdin). **File descriptor 1**: Standard output. **File descriptor 2**: Standard error (stderr) Beyond these, any new files or resources opened by a process are assigned incrementally higher numbers for their file descriptors.')}"
      ]
     },
     "execution_count": 59,
     "metadata": {},
     "output_type": "execute_result"
    }
   ],
   "source": [
    "import numpy as np\n",
    "from dataclasses import dataclass\n",
    "\n",
    "\n",
    "@dataclass\n",
    "class History:\n",
    "    correct: int = 0\n",
    "    incorrect: int = 0\n",
    "\n",
    "    def beta_draw(self):\n",
    "        \"\"\"\n",
    "        Draw a sample from the beta distribution. The interpretation is the probability of\n",
    "        \"success\" (in this case successfully answering the question correctly). The higher the\n",
    "        likelihood of success, the less likely we need to study this note.\n",
    "        \"\"\"\n",
    "        return np.random.beta(self.correct + 1, self.incorrect + 1, 1)[0]\n",
    "\n",
    "    def correct_answer(self, correct: bool) -> None:\n",
    "        if correct:\n",
    "            self.correct += 1\n",
    "        else:\n",
    "            self.incorrect += 1\n",
    "\n",
    "\n",
    "class TestBank:\n",
    "    def __init__(self, class_notes: list[ClassNotes], history: dict[str, History] | None = None):\n",
    "        self.test_bank = {}\n",
    "        for class_note in class_notes:\n",
    "            for note in class_note.notes:\n",
    "                uuid = class_note.uuid + note.uuid()\n",
    "                assert uuid not in self.test_bank, f\"Duplicate UUID: {uuid}\"\n",
    "                self.test_bank[uuid] = {\n",
    "                    'history': history[uuid] if history and uuid in history else History(),\n",
    "                    'subject_metadata': class_note.subject_metadata,\n",
    "                    'note_metadata': class_note.note_metadata,\n",
    "                    'note': note,\n",
    "                }\n",
    "\n",
    "    def draw(self) -> dict:\n",
    "        \"\"\"Draw a note from the class notes.\"\"\"\n",
    "        probabilities = {\n",
    "            k: v['history'].beta_draw()\n",
    "            for k, v in self.test_bank.items()\n",
    "        }\n",
    "        # softmax probabilities across all values\n",
    "        sum_probs = sum(probabilities.values())\n",
    "        probabilities = {k: v / sum_probs for k, v in probabilities.items()}\n",
    "        # draw a note\n",
    "        uuid = np.random.choice(list(probabilities.keys()), p=list(probabilities.values()))\n",
    "        return self.test_bank[uuid]\n",
    "\n",
    "    def get_history(self):\n",
    "        return {k: v['history'] for k, v in self.test_bank.items()}\n",
    "\n",
    "\n",
    "test = TestBank([class_notes])\n",
    "draw = test.draw()\n",
    "draw"
   ]
  },
  {
   "cell_type": "code",
   "execution_count": 60,
   "metadata": {},
   "outputs": [],
   "source": [
    "draw['history'].correct_answer(True)"
   ]
  },
  {
   "cell_type": "code",
   "execution_count": 61,
   "metadata": {},
   "outputs": [
    {
     "data": {
      "text/plain": [
       "{'65A67658-8B85-41CF-8FCF-1A1D46F61690-7171266355068618968': History(correct=0, incorrect=0),\n",
       " '65A67658-8B85-41CF-8FCF-1A1D46F61690-3890729400290021629': History(correct=0, incorrect=0),\n",
       " '65A67658-8B85-41CF-8FCF-1A1D46F616906884738064011858029': History(correct=1, incorrect=0)}"
      ]
     },
     "execution_count": 61,
     "metadata": {},
     "output_type": "execute_result"
    }
   ],
   "source": [
    "\n",
    "test.get_history()"
   ]
  },
  {
   "cell_type": "code",
   "execution_count": null,
   "metadata": {},
   "outputs": [],
   "source": []
  },
  {
   "cell_type": "code",
   "execution_count": null,
   "metadata": {},
   "outputs": [],
   "source": []
  },
  {
   "cell_type": "code",
   "execution_count": null,
   "metadata": {},
   "outputs": [],
   "source": []
  },
  {
   "cell_type": "code",
   "execution_count": null,
   "metadata": {},
   "outputs": [],
   "source": []
  },
  {
   "cell_type": "code",
   "execution_count": null,
   "metadata": {},
   "outputs": [],
   "source": []
  },
  {
   "cell_type": "code",
   "execution_count": null,
   "metadata": {},
   "outputs": [],
   "source": []
  },
  {
   "cell_type": "code",
   "execution_count": null,
   "metadata": {},
   "outputs": [],
   "source": []
  },
  {
   "cell_type": "code",
   "execution_count": 13,
   "metadata": {},
   "outputs": [
    {
     "data": {
      "text/plain": [
       "(0.0, 1.0)"
      ]
     },
     "execution_count": 13,
     "metadata": {},
     "output_type": "execute_result"
    },
    {
     "data": {
      "image/png": "[encoded data removed]",
      "text/plain": [
       "<Figure size 640x480 with 1 Axes>"
      ]
     },
     "metadata": {},
     "output_type": "display_data"
    }
   ],
   "source": [
    "# use beta distribution to draw notes\n",
    "import numpy as np\n",
    "import matplotlib.pyplot as plt\n",
    "\n",
    "# beta distribution\n",
    "correct, wrong = 0, 0\n",
    "# beta is the distribution of the probability of success\n",
    "beta = np.random.beta(correct + 1, wrong + 1, 1000)\n",
    "# if the probability of success (of answering the question) is high, then there is less need to study it and we can draw it less often\n",
    "beta = 1 - beta\n",
    "plt.hist(beta, bins=10)\n",
    "# fix the x-axis between 0 and 1\n",
    "plt.xlim(0, 1)"
   ]
  },
  {
   "cell_type": "code",
   "execution_count": null,
   "metadata": {},
   "outputs": [],
   "source": [
    "\n"
   ]
  },
  {
   "cell_type": "code",
   "execution_count": null,
   "metadata": {},
   "outputs": [],
   "source": []
  },
  {
   "cell_type": "code",
   "execution_count": null,
   "metadata": {},
   "outputs": [],
   "source": []
  }
 ],
 "metadata": {
  "kernelspec": {
   "display_name": "Python 3",
   "language": "python",
   "name": "python3"
  },
  "language_info": {
   "codemirror_mode": {
    "name": "ipython",
    "version": 3
   },
   "file_extension": ".py",
   "mimetype": "text/x-python",
   "name": "python",
   "nbconvert_exporter": "python",
   "pygments_lexer": "ipython3",
   "version": "3.11.9"
  }
 },
 "nbformat": 4,
 "nbformat_minor": 2
}
