{
 "cells": [
  {
   "cell_type": "code",
   "execution_count": null,
   "metadata": {},
   "outputs": [],
   "source": [
    "# from llm_workflow.openai import OpenAIChat\n",
    "\n",
    "# model = OpenAIChat()\n",
    "\n",
    "# model(\"hello\")"
   ]
  },
  {
   "cell_type": "code",
   "execution_count": null,
   "metadata": {},
   "outputs": [],
   "source": [
    "import os\n",
    "\n",
    "os.getcwd()"
   ]
  },
  {
   "cell_type": "code",
   "execution_count": null,
   "metadata": {},
   "outputs": [],
   "source": [
    "import yaml\n",
    "from source.library.notes import ClassNotes\n",
    "\n",
    "\n",
    "with open(\"/code/tests/test_files/notes1.yaml\", \"r\") as f:\n",
    "    notes = yaml.safe_load(f)\n",
    "\n",
    "class_notes = ClassNotes.from_dict(notes)\n",
    "print(class_notes)"
   ]
  },
  {
   "cell_type": "code",
   "execution_count": null,
   "metadata": {},
   "outputs": [],
   "source": [
    "from source.library.notes import TestBank\n",
    "\n",
    "test = TestBank([class_notes])\n",
    "draw = test.draw()\n",
    "draw"
   ]
  },
  {
   "cell_type": "code",
   "execution_count": null,
   "metadata": {},
   "outputs": [],
   "source": [
    "draw['history'].correct_answer(True)"
   ]
  },
  {
   "cell_type": "code",
   "execution_count": null,
   "metadata": {},
   "outputs": [],
   "source": [
    "\n",
    "test.get_history()"
   ]
  },
  {
   "cell_type": "code",
   "execution_count": null,
   "metadata": {},
   "outputs": [],
   "source": []
  },
  {
   "cell_type": "code",
   "execution_count": null,
   "metadata": {},
   "outputs": [],
   "source": []
  },
  {
   "cell_type": "code",
   "execution_count": null,
   "metadata": {},
   "outputs": [],
   "source": []
  },
  {
   "cell_type": "code",
   "execution_count": null,
   "metadata": {},
   "outputs": [],
   "source": []
  },
  {
   "cell_type": "code",
   "execution_count": null,
   "metadata": {},
   "outputs": [],
   "source": []
  },
  {
   "cell_type": "code",
   "execution_count": null,
   "metadata": {},
   "outputs": [],
   "source": []
  },
  {
   "cell_type": "code",
   "execution_count": null,
   "metadata": {},
   "outputs": [],
   "source": []
  },
  {
   "cell_type": "code",
   "execution_count": null,
   "metadata": {},
   "outputs": [],
   "source": [
    "# use beta distribution to draw notes\n",
    "import numpy as np\n",
    "import matplotlib.pyplot as plt\n",
    "\n",
    "# beta distribution\n",
    "correct, wrong = 0, 0\n",
    "# beta is the distribution of the probability of success\n",
    "beta = np.random.beta(correct + 1, wrong + 1, 1000)\n",
    "# if the probability of success (of answering the question) is high, then there is less need to study it and we can draw it less often\n",
    "beta = 1 - beta\n",
    "plt.hist(beta, bins=10)\n",
    "# fix the x-axis between 0 and 1\n",
    "plt.xlim(0, 1)"
   ]
  },
  {
   "cell_type": "code",
   "execution_count": null,
   "metadata": {},
   "outputs": [],
   "source": [
    "\n"
   ]
  },
  {
   "cell_type": "code",
   "execution_count": null,
   "metadata": {},
   "outputs": [],
   "source": []
  },
  {
   "cell_type": "code",
   "execution_count": 7,
   "metadata": {},
   "outputs": [
    {
     "data": {
      "text/plain": [
       "{'notes': [{'question': 'What is Data Encapsulation?',\n",
       "   'answer': 'Data Encapsulation is the process of wrapping data in a header or set of headers for secure transmission across a network or other communication system. Each layer in the communication system adds its own header, which may include addressing information and error-checking mechanisms. When the data reaches its destination, each header is removed, allowing the original data to be accessed by the receiving application.\\n',\n",
       "   'reference': 'https://beej.us/guide/bgnet/html/#what-is-a-socket; section 2.2'},\n",
       "  {'question': 'What is the Layered Network Model?',\n",
       "   'answer': 'The Layered Network Model is a conceptual framework used to understand the functional aspects of a communication system, where the system is divided into distinct layers, each responsible for specific tasks in the communication process. The most commonly known version consists of seven layers: Application, Presentation, Session, Transport, Network, Data Link, and Physical.\\n',\n",
       "   'reference': 'https://beej.us/guide/bgnet/html/#what-is-a-socket; section 2.2'},\n",
       "  {'question': 'What is the Unix Layered Network Model?',\n",
       "   'answer': 'The Unix Layered Network Model is a simplified communication model used in Unix systems, which is based on four layers: Application Layer (user applications), Host-to-Host Transport Layer (TCP or UDP), Internet Layer (IP and routing), and Network Access Layer (Ethernet, Wi-Fi, etc.).\\n',\n",
       "   'reference': 'https://beej.us/guide/bgnet/html/#what-is-a-socket; section 2.2'},\n",
       "  {'question': 'How does data travel across the network using the Layered Network Model?',\n",
       "   'answer': 'When a user application sends data over the network, it is first encapsulated in the Application Layer header, which may include information such as port numbers and message types. The packet is then passed to the Host-to-Host Transport Layer (TCP or UDP), where it is encapsulated with a header containing sequence and acknowledgement numbers, and segmented into smaller units called segments if necessary. Next, the Internet Layer (IP) adds a header with source and destination IP addresses and other routing information. The Data Link Layer (Ethernet or Wi-Fi) then encapsulates the packet in a frame containing the MAC address of both the sending and receiving devices. Finally, the physical medium transmits the data as a series of electrical or electromagnetic signals. At each hop along the way, the headers are stripped off, and the data is passed to the next layer until it reaches its destination.\\n',\n",
       "   'reference': 'https://beej.us/guide/bgnet/html/#what-is-a-socket; section 2.2'},\n",
       "  {'question': 'What happens when a packet arrives at its destination using the Layered Network Model?',\n",
       "   'answer': 'When a packet arrives at its destination, the physical medium first transmits the raw bitstream to the Data Link Layer (Ethernet or Wi-Fi). The Data Link Layer extracts the MAC address from the frame and checks it against its own MAC address. If they match, the packet is passed up to the Internet Layer (IP), where the IP header is stripped off, and the data is checked against the routing table to determine if it has reached its final destination. If so, the packet is passed up to the Host-to-Host Transport Layer (TCP or UDP), where the transport header is stripped off, and the data is reassembled into its original form. The Application Layer then extracts the data and passes it to the user application for processing.\\n',\n",
       "   'reference': 'https://beej.us/guide/bgnet/html/#what-is-a-socket; section 2.2'}]}"
      ]
     },
     "execution_count": 7,
     "metadata": {},
     "output_type": "execute_result"
    }
   ],
   "source": [
    "import yaml\n",
    "with open('/code/source/library/prompts/temp.yaml') as _handle:\n",
    "    yaml_data = yaml.safe_load(_handle)\n",
    "yaml_data"
   ]
  },
  {
   "cell_type": "code",
   "execution_count": null,
   "metadata": {},
   "outputs": [],
   "source": []
  },
  {
   "cell_type": "code",
   "execution_count": null,
   "metadata": {},
   "outputs": [],
   "source": []
  },
  {
   "cell_type": "code",
   "execution_count": null,
   "metadata": {},
   "outputs": [],
   "source": []
  },
  {
   "cell_type": "code",
   "execution_count": 8,
   "metadata": {},
   "outputs": [],
   "source": [
    "text = \"\"\"\n",
    "Reference: https://beej.us/guide/bgnet/html/#what-is-a-socket\"\n",
    "\n",
    "2.2 Low level Nonsense and Network Theory\n",
    "Since I just mentioned layering of protocols, it’s time to talk about how networks really work, and to show some examples of how SOCK_DGRAM packets are built. Practically, you can probably skip this section. It’s good background, however.\n",
    "\n",
    "\n",
    "Data Encapsulation.\n",
    "Hey, kids, it’s time to learn about Data Encapsulation! This is very very important. It’s so important that you might just learn about it if you take the networks course here at Chico State ;-). Basically, it says this: a packet is born, the packet is wrapped (“encapsulated”) in a header (and rarely a footer) by the first protocol (say, the TFTP protocol), then the whole thing (TFTP header included) is encapsulated again by the next protocol (say, UDP), then again by the next (IP), then again by the final protocol on the hardware (physical) layer (say, Ethernet).\n",
    "\n",
    "When another computer receives the packet, the hardware strips the Ethernet header, the kernel strips the IP and UDP headers, the TFTP program strips the TFTP header, and it finally has the data.\n",
    "\n",
    "Now I can finally talk about the infamous Layered Network Model (aka “ISO/OSI”). This Network Model describes a system of network functionality that has many advantages over other models. For instance, you can write sockets programs that are exactly the same without caring how the data is physically transmitted (serial, thin Ethernet, AUI, whatever) because programs on lower levels deal with it for you. The actual network hardware and topology is transparent to the socket programmer.\n",
    "\n",
    "Without any further ado, I’ll present the layers of the full-blown model. Remember this for network class exams:\n",
    "\n",
    "Application\n",
    "Presentation\n",
    "Session\n",
    "Transport\n",
    "Network\n",
    "Data Link\n",
    "Physical\n",
    "The Physical Layer is the hardware (serial, Ethernet, etc.). The Application Layer is just about as far from the physical layer as you can imagine—it’s the place where users interact with the network.\n",
    "\n",
    "Now, this model is so general you could probably use it as an automobile repair guide if you really wanted to. A layered model more consistent with Unix might be:\n",
    "\n",
    "Application Layer (telnet, ftp, etc.)\n",
    "Host-to-Host Transport Layer (TCP, UDP)\n",
    "Internet Layer (IP and routing)\n",
    "Network Access Layer (Ethernet, wi-fi, or whatever)\n",
    "At this point in time, you can probably see how these layers correspond to the encapsulation of the original data.\n",
    "\n",
    "See how much work there is in building a simple packet? Jeez! And you have to type in the packet headers yourself using “cat”! Just kidding. All you have to do for stream sockets is send() the data out. All you have to do for datagram sockets is encapsulate the packet in the method of your choosing and sendto() it out. The kernel builds the Transport Layer and Internet Layer on for you and the hardware does the Network Access Layer. Ah, modern technology.\n",
    "\n",
    "So ends our brief foray into network theory. Oh yes, I forgot to tell you everything I wanted to say about routing: nothing! That’s right, I’m not going to talk about it at all. The router strips the packet to the IP header, consults its routing table, blah blah blah. Check out the IP RFC12 if you really really care. If you never learn about it, well, you’ll live.\n",
    "\"\"\""
   ]
  },
  {
   "cell_type": "code",
   "execution_count": 4,
   "metadata": {},
   "outputs": [],
   "source": [
    "from textwrap import dedent\n",
    "from llm_workflow.openai import OpenAIChat, OpenAIServerChat\n",
    "from dotenv import load_dotenv\n",
    "load_dotenv()\n",
    "\n",
    "# model = OpenAIServerChat(endpoint_url=\"http://host.docker.internal:1234/v1\")\n",
    "model = OpenAIChat()\n",
    "with open(\"/code/source/library/prompts/text_to_notes.txt\") as f:\n",
    "    prompt_template = f.read()\n",
    "\n",
    "prompt = dedent(prompt_template).strip().replace(\"{{text}}\", text)\n",
    "response = model(prompt)"
   ]
  },
  {
   "cell_type": "code",
   "execution_count": 5,
   "metadata": {},
   "outputs": [
    {
     "name": "stdout",
     "output_type": "stream",
     "text": [
      "```yaml\n",
      "notes:\n",
      "  - term: What is `Data Encapsulation`?\n",
      "    definition: |\n",
      "      **Data Encapsulation** is the process of wrapping data packets in headers and/or footers by multiple network protocols as data moves through various network layers. Each protocol adds its headers before passing it down to the next lower layer.\n",
      "    reference: https://beej.us/guide/bgnet/html/#what-is-a-socket; chapter 2.2\n",
      "  - term: What is the `Layered Network Model (ISO/OSI)`?\n",
      "    definition: |\n",
      "      The **Layered Network Model** (also known as the **ISO/OSI** model) is a system that describes network functionality in multiple layers, including:\n",
      "        - **Application Layer**\n",
      "        - **Presentation Layer**\n",
      "        - **Session Layer**\n",
      "        - **Transport Layer**\n",
      "        - **Network Layer**\n",
      "        - **Data Link Layer**\n",
      "        - **Physical Layer**\n",
      "    \n",
      "      Each layer performs specific functions related to network communication, with the physical layer being the hardware layer and the application layer being the user interface.\n",
      "    reference: https://beej.us/guide/bgnet/html/#what-is-a-socket; chapter 2.2\n",
      "  - term: Difference between ISO/OSI Model and Unix-specific model\n",
      "    definition: |\n",
      "      The **ISO/OSI** model is a generalized model for understanding network functionality, abstracting physical transmission details, while a **Unix-specific model** simplifies the layers into:\n",
      "        - **Application Layer**: Includes applications like telnet, FTP\n",
      "        - **Host-to-Host Transport Layer**: Handles protocols like TCP, UDP\n",
      "        - **Internet Layer**: Involves IP and routing\n",
      "        - **Network Access Layer**: Deals with physical connectivity methods like Ethernet or Wi-Fi.\n",
      "    reference: https://beej.us/guide/bgnet/html/#what-is-a-socket; chapter 2.2\n",
      "```\n"
     ]
    }
   ],
   "source": [
    "print(response)"
   ]
  },
  {
   "cell_type": "code",
   "execution_count": null,
   "metadata": {},
   "outputs": [],
   "source": []
  },
  {
   "cell_type": "code",
   "execution_count": null,
   "metadata": {},
   "outputs": [],
   "source": []
  },
  {
   "cell_type": "code",
   "execution_count": null,
   "metadata": {},
   "outputs": [],
   "source": []
  },
  {
   "cell_type": "code",
   "execution_count": 3,
   "metadata": {},
   "outputs": [
    {
     "name": "stdout",
     "output_type": "stream",
     "text": [
      "notes:\n",
      "  - term: Data Encapsulation\n",
      "    definition: >\n",
      "      The process of **wrapping** or **enclosing** data in a **header** or set of headers for secure transmission across a network or other communication system. Each layer in the communication system adds its own header, which may include addressing information and error-checking mechanisms. When the data reaches its destination, each header is removed, allowing the original data to be accessed by the receiving application.\n",
      "    reference: https://beej.us/guide/bgnet/html/#what-is-a-socket; section 2.2\n",
      "  - term: Layered Network Model (OSI)\n",
      "    definition: >\n",
      "      A **conceptual framework** used to understand the **functional aspects** of a communication system, where the system is divided into distinct layers, each responsible for specific tasks in the communication process. This model consists of seven layers: Application, Presentation, Session, Transport, Network, Data Link, and Physical.\n",
      "    reference: https://beej.us/guide/bgnet/html/#what-is-a-socket; section 2.2\n",
      "  - term: Layered Network Model (Unix)\n",
      "    definition: >\n",
      "      A simplified **communication model** used in Unix systems, which is based on four layers: Application Layer (user applications), Host-to-Host Transport Layer (TCP or UDP), Internet Layer (IP and routing), and Network Access Layer (Ethernet, Wi-Fi, etc.).\n",
      "    reference: https://beej.us/guide/bgnet/html/#what-is-a-socket; section 2.2\n",
      "\n",
      "notes:\n",
      "  - question: What is Data Encapsulation?\n",
      "    answer: >\n",
      "      Data Encapsulation is the process of wrapping data in a header or set of headers for secure transmission across a network or other communication system. Each layer in the communication system adds its own header, which may include addressing information and error-checking mechanisms. When the data reaches its destination, each header is removed, allowing the original data to be accessed by the receiving application.\n",
      "    reference: https://beej.us/guide/bgnet/html/#what-is-a-socket; section 2.2\n",
      "  - question: What is the Layered Network Model?\n",
      "    answer: >\n",
      "      The Layered Network Model is a conceptual framework used to understand the functional aspects of a communication system, where the system is divided into distinct layers, each responsible for specific tasks in the communication process. The most commonly known version consists of seven layers: Application, Presentation, Session, Transport, Network, Data Link, and Physical.\n",
      "    reference: https://beej.us/guide/bgnet/html/#what-is-a-socket; section 2.2\n",
      "  - question: What is the Unix Layered Network Model?\n",
      "    answer: >\n",
      "      The Unix Layered Network Model is a simplified communication model used in Unix systems, which is based on four layers: Application Layer (user applications), Host-to-Host Transport Layer (TCP or UDP), Internet Layer (IP and routing), and Network Access Layer (Ethernet, Wi-Fi, etc.).\n",
      "    reference: https://beej.us/guide/bgnet/html/#what-is-a-socket; section 2.2\n",
      "  - question: How does data travel across the network using the Layered Network Model?\n",
      "    answer: >\n",
      "      When a user application sends data over the network, it is first encapsulated in the Application Layer header, which may include information such as port numbers and message types. The packet is then passed to the Host-to-Host Transport Layer (TCP or UDP), where it is encapsulated with a header containing sequence and acknowledgement numbers, and segmented into smaller units called segments if necessary.\n",
      "      Next, the Internet Layer (IP) adds a header with source and destination IP addresses and other routing information. The Data Link Layer (Ethernet or Wi-Fi) then encapsulates the packet in a frame containing the MAC address of both the sending and receiving devices. Finally, the physical medium transmits the data as a series of electrical or electromagnetic signals.\n",
      "      At each hop along the way, the headers are stripped off, and the data is passed to the next layer until it reaches its destination.\n",
      "    reference: https://beej.us/guide/bgnet/html/#what-is-a-socket; section 2.2\n",
      "  - question: What happens when a packet arrives at its destination using the Layered Network Model?\n",
      "    answer: >\n",
      "      When a packet arrives at its destination, the physical medium first transmits the raw bitstream to the Data Link Layer (Ethernet or Wi-Fi). The Data Link Layer extracts the MAC address from the frame and checks it against its own MAC address. If they match, the packet is passed up to the Internet Layer (IP), where the IP header is stripped off, and the data is checked against the routing table to determine if it has reached its final destination.\n",
      "      If so, the packet is passed up to the Host-to-Host Transport Layer (TCP or UDP), where the transport header is stripped off, and the data is reassembled into its original form. The Application Layer then extracts the data and passes it to the user application for processing.\n",
      "    reference: https://beej.us/guide/bgnet/html/#what-is-a-socket; section 2.2\n"
     ]
    }
   ],
   "source": [
    "print(response)"
   ]
  },
  {
   "cell_type": "code",
   "execution_count": null,
   "metadata": {},
   "outputs": [],
   "source": []
  },
  {
   "cell_type": "code",
   "execution_count": null,
   "metadata": {},
   "outputs": [],
   "source": []
  },
  {
   "cell_type": "code",
   "execution_count": null,
   "metadata": {},
   "outputs": [],
   "source": []
  },
  {
   "cell_type": "markdown",
   "metadata": {},
   "source": []
  },
  {
   "cell_type": "code",
   "execution_count": null,
   "metadata": {},
   "outputs": [],
   "source": [
    "model.cost"
   ]
  },
  {
   "cell_type": "code",
   "execution_count": null,
   "metadata": {},
   "outputs": [],
   "source": [
    "model.input_tokens"
   ]
  },
  {
   "cell_type": "code",
   "execution_count": null,
   "metadata": {},
   "outputs": [],
   "source": []
  },
  {
   "cell_type": "code",
   "execution_count": null,
   "metadata": {},
   "outputs": [],
   "source": []
  },
  {
   "cell_type": "code",
   "execution_count": null,
   "metadata": {},
   "outputs": [],
   "source": []
  },
  {
   "cell_type": "code",
   "execution_count": null,
   "metadata": {},
   "outputs": [],
   "source": [
    "# Chat with an intelligent assistant in your terminal\n",
    "from openai import OpenAI\n",
    "\n",
    "# Point to the local server\n",
    "client = OpenAI(base_url=\"http://host.docker.internal:1234/v1\", api_key=\"lm-studio\")\n",
    "\n",
    "history = [\n",
    "    {\"role\": \"system\", \"content\": \"You are an intelligent assistant. You always provide well-reasoned answers that are both correct and helpful.\"},\n",
    "    {\"role\": \"user\", \"content\": \"Hello, introduce yourself to someone opening this program for the first time. Be concise.\"},\n",
    "]\n",
    "\n",
    "while True:\n",
    "    completion = client.chat.completions.create(\n",
    "        model=\"TheBloke/Mistral-7B-Instruct-v0.2-GGUF\",\n",
    "        messages=history,\n",
    "        temperature=0.7,\n",
    "        stream=True,\n",
    "    )\n",
    "\n",
    "    new_message = {\"role\": \"assistant\", \"content\": \"\"}\n",
    "    \n",
    "    for chunk in completion:\n",
    "        if chunk.choices[0].delta.content:\n",
    "            print(chunk.choices[0].delta.content, end=\"\", flush=True)\n",
    "            new_message[\"content\"] += chunk.choices[0].delta.content\n",
    "\n",
    "    history.append(new_message)\n",
    "    b\n",
    "    # Uncomment to see chat history\n",
    "    # import json\n",
    "    # gray_color = \"\\033[90m\"\n",
    "    # reset_color = \"\\033[0m\"\n",
    "    # print(f\"{gray_color}\\n{'-'*20} History dump {'-'*20}\\n\")\n",
    "    # print(json.dumps(history, indent=2))\n",
    "    # print(f\"\\n{'-'*55}\\n{reset_color}\")\n",
    "\n",
    "    print()\n",
    "    history.append({\"role\": \"user\", \"content\": input(\"> \")})"
   ]
  },
  {
   "cell_type": "code",
   "execution_count": null,
   "metadata": {},
   "outputs": [],
   "source": []
  },
  {
   "cell_type": "code",
   "execution_count": null,
   "metadata": {},
   "outputs": [],
   "source": [
    "from llm_workflow.openai import OpenAIServerChat\n",
    "\n",
    "\n",
    "model = OpenAIServerChat(base_url=\"http://host.docker.internal:1234/v1\")\n",
    "model(\"hello\")"
   ]
  },
  {
   "cell_type": "code",
   "execution_count": null,
   "metadata": {},
   "outputs": [],
   "source": []
  },
  {
   "cell_type": "code",
   "execution_count": null,
   "metadata": {},
   "outputs": [],
   "source": []
  },
  {
   "cell_type": "code",
   "execution_count": null,
   "metadata": {},
   "outputs": [],
   "source": []
  }
 ],
 "metadata": {
  "kernelspec": {
   "display_name": "Python 3",
   "language": "python",
   "name": "python3"
  },
  "language_info": {
   "codemirror_mode": {
    "name": "ipython",
    "version": 3
   },
   "file_extension": ".py",
   "mimetype": "text/x-python",
   "name": "python",
   "nbconvert_exporter": "python",
   "pygments_lexer": "ipython3",
   "version": "3.11.9"
  }
 },
 "nbformat": 4,
 "nbformat_minor": 2
}
