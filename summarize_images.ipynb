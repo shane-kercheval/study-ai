{
 "cells": [
  {
   "cell_type": "code",
   "execution_count": 9,
   "metadata": {},
   "outputs": [
    {
     "data": {
      "text/plain": [
       "False"
      ]
     },
     "execution_count": 9,
     "metadata": {},
     "output_type": "execute_result"
    }
   ],
   "source": [
    "from IPython.display import Markdown, display\n",
    "from dotenv import load_dotenv\n",
    "from llm_workflow.openai import OpenAIImageChat\n",
    "\n",
    "load_dotenv()"
   ]
  },
  {
   "cell_type": "code",
   "execution_count": 1,
   "metadata": {},
   "outputs": [],
   "source": [
    "model = OpenAIImageChat(\n",
    "    image_url='https://frontofficesports.com/wp-content/uploads/2022/06/Scoreboard-6.16.22-Curry.jpg?quality=100',\n",
    "    # streaming_callback=lambda x: print(x.response, end='', flush=True),\n",
    "    )\n",
    "response = model(\"What is this picture about?\")"
   ]
  },
  {
   "cell_type": "code",
   "execution_count": 10,
   "metadata": {},
   "outputs": [
    {
     "data": {
      "text/markdown": [
       "This is a photo of a basketball player wearing the Golden State Warriors uniform. The number 30 on the jersey indicates his player number. His expression and body language, with his hands behind his head and a smile, might suggest he is in a moment of relief, celebration, or playful banter, which are common emotions displayed during or after a game. The setting appears to be a basketball court, most likely during a break in the action or at the conclusion of a game or play. The details in the image, such as sweat on his face, also indicate that he has been physically active, as expected in a basketball match."
      ],
      "text/plain": [
       "<IPython.core.display.Markdown object>"
      ]
     },
     "metadata": {},
     "output_type": "display_data"
    }
   ],
   "source": [
    "display(Markdown(response))"
   ]
  },
  {
   "cell_type": "code",
   "execution_count": 11,
   "metadata": {},
   "outputs": [
    {
     "data": {
      "text/plain": [
       "0.01503"
      ]
     },
     "execution_count": 11,
     "metadata": {},
     "output_type": "execute_result"
    }
   ],
   "source": [
    "model.cost"
   ]
  },
  {
   "cell_type": "markdown",
   "metadata": {},
   "source": [
    "---"
   ]
  },
  {
   "cell_type": "code",
   "execution_count": 12,
   "metadata": {},
   "outputs": [],
   "source": [
    "model = OpenAIImageChat(\n",
    "    image_url='/code/tests/test_data/hands_on_example.png',\n",
    "    system_message=\"Your job is to extract text from images and convert the text to Markdown format as accurately as possible. Try formatting sections in markdown headers according to the size and boldness. Text that looks like code should be wrapped in code blocks. Only return the text, no explanations. Start from the beginning.\",\n",
    "    max_tokens=4096,\n",
    "    )\n",
    "response = model(\"Extract all of the text from this image.\")"
   ]
  },
  {
   "cell_type": "code",
   "execution_count": 13,
   "metadata": {},
   "outputs": [
    {
     "data": {
      "text/markdown": [
       "In a 2015 paper, HANDS-ON MACHINE LEARNING WITH SCIKIT-LEARN...ed a technique called *batch normalization (BN)* that addresses these problems. The technique consists of adding an operation in the model just before or after the activation function of each hidden layer. This operation simply zero-centers and normalizes each input, then scales and shifts the result using two new parameter vectors per layer: one for scaling, the other for shifting. In other words, the operation lets the model learn the optimal scale and mean of each of the layer’s inputs. In many cases, if you add a BN layer as the very first layer of your neural network, you do not need to standardize your training set. That is, there’s no need for StandardScaler or Normalization; the BN layer will do it for you (well, approximately, since it only looks at one batch at a time, and it can also rescale and shift each input feature).\n",
       "\n",
       "In order to zero-center and normalize the inputs, the algorithm needs to estimate each input’s mean and standard deviation. It does so by evaluating the mean and standard deviation of the input over the current mini-batch (hence the name “batch normalization”). The whole operation is summarized step by step in *Equation 11-4*.\n",
       "\n",
       "*Equation 11-4. Batch normalization algorithm*\n",
       "\n",
       "1. µ_B = 1/m_B Σ x^(i) from i=1 to m_B\n",
       "2. σ_B^2 = 1/m_B Σ (x^(i) - µ_B)^2 from i=1 to m_B\n",
       "3. x^(i) = (x^(i) - µ_B) / √(σ_B^2 + ε)\n",
       "4. z^(i) = γ ⊗ x^(i) + β\n",
       "\n",
       "In this algorithm:\n",
       "\n",
       "- µ_B is the vector of input means, evaluated over the whole mini-batch B (it contains one mean per input).\n",
       "- m_B is the number of instances in the mini-batch.\n",
       "- σ_B is the vector of input standard deviations, also evaluated over the whole mini-batch (it contains one standard deviation per input).\n",
       "- x^(i) is the vector of zero-centered and normalized inputs for instance i.\n",
       "- ε is a tiny number that avoids division by zero and ensures the gradients don’t grow too large (typically 10^-5). This is called a *smoothing term*.\n",
       "- γ is the output scale parameter vector for the layer (it contains one scale parameter per input).\n",
       "- ⊗ represents element-wise multiplication (each input is multiplied by its corresponding output scale parameter).\n",
       "\n",
       "Page 591 of 1457"
      ],
      "text/plain": [
       "<IPython.core.display.Markdown object>"
      ]
     },
     "metadata": {},
     "output_type": "display_data"
    }
   ],
   "source": [
    "from IPython.display import Markdown, display\n",
    "\n",
    "display(Markdown(response))"
   ]
  },
  {
   "cell_type": "code",
   "execution_count": 14,
   "metadata": {},
   "outputs": [
    {
     "data": {
      "text/plain": [
       "0.02838"
      ]
     },
     "execution_count": 14,
     "metadata": {},
     "output_type": "execute_result"
    }
   ],
   "source": [
    "model.cost"
   ]
  },
  {
   "cell_type": "markdown",
   "metadata": {},
   "source": [
    "---"
   ]
  },
  {
   "cell_type": "markdown",
   "metadata": {},
   "source": []
  }
 ],
 "metadata": {
  "kernelspec": {
   "display_name": "Python 3",
   "language": "python",
   "name": "python3"
  },
  "language_info": {
   "codemirror_mode": {
    "name": "ipython",
    "version": 3
   },
   "file_extension": ".py",
   "mimetype": "text/x-python",
   "name": "python",
   "nbconvert_exporter": "python",
   "pygments_lexer": "ipython3",
   "version": "3.11.8"
  }
 },
 "nbformat": 4,
 "nbformat_minor": 2
}
